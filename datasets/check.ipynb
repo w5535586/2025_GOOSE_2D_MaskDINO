{
 "cells": [
  {
   "cell_type": "code",
   "execution_count": null,
   "metadata": {
    "vscode": {
     "languageId": "plaintext"
    }
   },
   "outputs": [],
   "source": [
    "import os\n",
    "\n",
    "# 設定路徑（你要根據實際路徑調整）\n",
    "image_training_path = \"/ssd1/hsuan/MaskDINO/datasets/GOOSE/images/validation\"\n",
    "nir_training_path = \"/ssd1/hsuan/MaskDINO/datasets/GOOSE/nir/validation\"\n",
    "\n",
    "# 取得檔案數量\n",
    "num_image_training = len(os.listdir(image_training_path))\n",
    "num_nir_training = len(os.listdir(nir_training_path))\n",
    "\n",
    "print(f\"images/training 數量：{num_image_training}\")\n",
    "print(f\"nir/training 數量：{num_nir_training}\")\n"
   ]
  }
 ],
 "metadata": {
  "language_info": {
   "name": "python"
  }
 },
 "nbformat": 4,
 "nbformat_minor": 2
}
